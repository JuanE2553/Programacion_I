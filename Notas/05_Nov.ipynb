{
 "cells": [
  {
   "cell_type": "markdown",
   "metadata": {},
   "source": [
    "# Integración Numérica\n",
    "\n",
    "Muchas veces es difícil evaluar una integral. Ejemplo:\n",
    "\n",
    "$ \\mathrm{erf}(x)=\\frac{2}{\\sqrt{\\pi}}\\int_0^x e^{-t^2} dt$"
   ]
  },
  {
   "cell_type": "code",
   "execution_count": 1,
   "metadata": {
    "collapsed": false
   },
   "outputs": [
    {
     "data": {
      "text/plain": [
       "Plots.PlotlyBackend()"
      ]
     },
     "execution_count": 1,
     "metadata": {},
     "output_type": "execute_result"
    }
   ],
   "source": [
    "using Plots\n",
    "plotly()"
   ]
  },
  {
   "cell_type": "code",
   "execution_count": 3,
   "metadata": {
    "collapsed": false
   },
   "outputs": [
    {
     "ename": "LoadError",
     "evalue": "UndefVarError: nodos not defined",
     "output_type": "error",
     "traceback": [
      "UndefVarError: nodos not defined",
      ""
     ]
    }
   ],
   "source": [
    "a=collect(-3:0.01:3)\n",
    "f(x)=(e.^-x.^2).*(2/sqrt(pi))\n",
    "plot(a,f(a))\n",
    "vline!(nodos,linestyle=:dash)"
   ]
  },
  {
   "cell_type": "markdown",
   "metadata": {},
   "source": [
    "La integral es un **funcional lineal** *I* de *f*:\n",
    "\n",
    "$I(f) = \\int_a^b f(x) dx $\n",
    "\n",
    "representa el **área bajo la curva** $y=f(x)$ entre los valores $x=a$ y $x=b$.\n",
    "\n",
    "Una manera de aproximar la integral es discretizando el dominio.\n",
    "\n",
    "## Encontremos el valor aproximado de la función erf(x)"
   ]
  },
  {
   "cell_type": "code",
   "execution_count": 4,
   "metadata": {
    "collapsed": false
   },
   "outputs": [
    {
     "name": "stdout",
     "output_type": "stream",
     "text": [
      "search: \u001b[1me\u001b[22m\u001b[1mr\u001b[22m\u001b[1mf\u001b[22m \u001b[1me\u001b[22m\u001b[1mr\u001b[22m\u001b[1mf\u001b[22mi \u001b[1me\u001b[22m\u001b[1mr\u001b[22m\u001b[1mf\u001b[22mc \u001b[1me\u001b[22m\u001b[1mr\u001b[22m\u001b[1mf\u001b[22mcx \u001b[1me\u001b[22m\u001b[1mr\u001b[22m\u001b[1mf\u001b[22minv \u001b[1me\u001b[22m\u001b[1mr\u001b[22m\u001b[1mf\u001b[22mcinv Ov\u001b[1me\u001b[22m\u001b[1mr\u001b[22m\u001b[1mf\u001b[22mlowError StackOv\u001b[1me\u001b[22m\u001b[1mr\u001b[22m\u001b[1mf\u001b[22mlowError\n",
      "\n"
     ]
    },
    {
     "data": {
      "text/markdown": [
       "```\n",
       "erf(x)\n",
       "```\n",
       "\n",
       "Compute the error function of `x`, defined by $\\frac{2}{\\sqrt{\\pi}} \\int_0^x e^{-t^2} dt$ for arbitrary complex `x`.\n"
      ],
      "text/plain": [
       "```\n",
       "erf(x)\n",
       "```\n",
       "\n",
       "Compute the error function of `x`, defined by $\\frac{2}{\\sqrt{\\pi}} \\int_0^x e^{-t^2} dt$ for arbitrary complex `x`.\n"
      ]
     },
     "execution_count": 4,
     "metadata": {},
     "output_type": "execute_result"
    }
   ],
   "source": [
    "?erf"
   ]
  },
  {
   "cell_type": "code",
   "execution_count": 7,
   "metadata": {
    "collapsed": false
   },
   "outputs": [
    {
     "data": {
      "text/plain": [
       "0.8427007929497149"
      ]
     },
     "execution_count": 7,
     "metadata": {},
     "output_type": "execute_result"
    }
   ],
   "source": [
    "erf(1)"
   ]
  },
  {
   "cell_type": "code",
   "execution_count": 6,
   "metadata": {
    "collapsed": false
   },
   "outputs": [
    {
     "data": {
      "text/plain": [
       "1.0"
      ]
     },
     "execution_count": 6,
     "metadata": {},
     "output_type": "execute_result"
    }
   ],
   "source": [
    "erf(100)"
   ]
  },
  {
   "cell_type": "markdown",
   "metadata": {},
   "source": [
    "#### 1. Dada una x y una N, grafique la función y líneas verticales punteadas (use `linestyle=:dash`), separadas una distancia $h= \\frac{1}{N}$"
   ]
  },
  {
   "cell_type": "code",
   "execution_count": 12,
   "metadata": {
    "collapsed": false
   },
   "outputs": [
    {
     "data": {
      "text/html": [
       "<script src=\"/home/mvb/.julia/v0.4/Plots/deps/plotly-latest.min.js\"></script>    <div id=\"34c037c8-067f-4df2-bb49-61d69a0a3998\" style=\"width:600px;height:400px;\"></div>\n",
       "    <script>\n",
       "    PLOT = document.getElementById('34c037c8-067f-4df2-bb49-61d69a0a3998');\n",
       "    Plotly.plot(PLOT, [{\"yaxis\":\"y\",\"y\":[0.0,1.1,null,0.0,1.1,null,0.0,1.1,null],\"showlegend\":true,\"name\":\"y1\",\"type\":\"scatter\",\"xaxis\":\"x\",\"line\":{\"width\":1,\"dash\":\"solid\",\"color\":\"rgba(0, 154, 250, 1.000)\",\"shape\":\"linear\"},\"x\":[1.0,1.0,1.0,2.0,2.0,2.0,3.0,3.0,3.0],\"mode\":\"lines\"}], {\"yaxis\":{\"type\":\"-\",\"titlefont\":{\"size\":15,\"color\":\"rgba(0, 0, 0, 1.000)\",\"family\":\"Helvetica\"},\"title\":\"\",\"tickfont\":{\"size\":11,\"color\":\"rgba(0, 0, 0, 1.000)\",\"family\":\"Helvetica\"},\"tickmode\":\"array\",\"showgrid\":true,\"tickvals\":[0.0,0.2,0.4,0.6000000000000001,0.8,1.0],\"domain\":[0.057305336832895896,0.9901574803149605],\"ticktext\":[\"0.0\",\"0.2\",\"0.4\",\"0.6\",\"0.8\",\"1.0\"],\"zeroline\":false,\"linecolor\":\"rgba(0, 0, 0, 1.000)\",\"tickcolor\":\"rgba(0, 0, 0, 1.000)\",\"anchor\":\"x\"},\"annotations\":[],\"width\":600,\"plot_bgcolor\":\"rgba(255, 255, 255, 1.000)\",\"showlegend\":true,\"legend\":{\"bgcolor\":\"rgba(255, 255, 255, 1.000)\",\"font\":{\"size\":11,\"color\":\"rgba(0, 0, 0, 1.000)\",\"family\":\"Helvetica\"},\"bordercolor\":\"rgba(0, 0, 0, 1.000)\"},\"xaxis\":{\"type\":\"-\",\"titlefont\":{\"size\":15,\"color\":\"rgba(0, 0, 0, 1.000)\",\"family\":\"Helvetica\"},\"title\":\"\",\"tickfont\":{\"size\":11,\"color\":\"rgba(0, 0, 0, 1.000)\",\"family\":\"Helvetica\"},\"tickmode\":\"array\",\"showgrid\":true,\"tickvals\":[1.0,1.5,2.0,2.5,3.0],\"domain\":[0.05905511811023622,0.9934383202099738],\"ticktext\":[\"1.0\",\"1.5\",\"2.0\",\"2.5\",\"3.0\"],\"zeroline\":false,\"linecolor\":\"rgba(0, 0, 0, 1.000)\",\"tickcolor\":\"rgba(0, 0, 0, 1.000)\",\"anchor\":\"y\"},\"paper_bgcolor\":\"rgba(255, 255, 255, 1.000)\",\"height\":400,\"margin\":{\"r\":0,\"l\":0,\"b\":0,\"t\":20}});\n",
       "    </script>\n"
      ]
     },
     "execution_count": 12,
     "metadata": {},
     "output_type": "execute_result"
    }
   ],
   "source": [
    "vline([1,2,3])"
   ]
  },
  {
   "cell_type": "code",
   "execution_count": 4,
   "metadata": {
    "collapsed": false
   },
   "outputs": [
    {
     "data": {
      "text/html": [
       "<script src=\"/home/mvb/.julia/v0.4/Plots/deps/plotly-latest.min.js\"></script>    <div id=\"85414d3b-c29b-4999-8761-a4489d9602da\" style=\"width:600px;height:400px;\"></div>\n",
       "    <script>\n",
       "    PLOT = document.getElementById('85414d3b-c29b-4999-8761-a4489d9602da');\n",
       "    Plotly.plot(PLOT, [{\"yaxis\":\"y\",\"y\":[1.1283791670955126,1.084134787104863,0.9615412988393078,0.7872434317142872,0.5949857862574689,0.4151074974205947,0.26734434700353915,0.15894170767727792,0.08722905863394531,0.04419172333201105,0.020666985354092053,0.008922155064916198,0.003555648680877748,0.0013080500497232807,0.00044420794420566706,0.00013925305194674786],\"showlegend\":true,\"name\":\"y1\",\"type\":\"scatter\",\"xaxis\":\"x\",\"line\":{\"width\":1,\"dash\":\"solid\",\"color\":\"rgba(0, 154, 250, 1.000)\",\"shape\":\"linear\"},\"x\":[0.0,0.2,0.4,0.6,0.8,1.0,1.2,1.4,1.6,1.8,2.0,2.2,2.4,2.6,2.8,3.0],\"mode\":\"lines\"},{\"yaxis\":\"y\",\"y\":[0.00013925305194674786,1.1283791670955126,null,0.00013925305194674786,1.1283791670955126,null,0.00013925305194674786,1.1283791670955126,null,0.00013925305194674786,1.1283791670955126,null,0.00013925305194674786,1.1283791670955126,null,0.00013925305194674786,1.1283791670955126,null,0.00013925305194674786,1.1283791670955126,null,0.00013925305194674786,1.1283791670955126,null,0.00013925305194674786,1.1283791670955126,null,0.00013925305194674786,1.1283791670955126,null,0.00013925305194674786,1.1283791670955126,null,0.00013925305194674786,1.1283791670955126,null,0.00013925305194674786,1.1283791670955126,null,0.00013925305194674786,1.1283791670955126,null,0.00013925305194674786,1.1283791670955126,null,0.00013925305194674786,1.1283791670955126,null],\"showlegend\":true,\"name\":\"y2\",\"type\":\"scatter\",\"xaxis\":\"x\",\"line\":{\"width\":1,\"dash\":\"dash\",\"color\":\"rgba(227, 111, 71, 1.000)\",\"shape\":\"linear\"},\"x\":[0.0,0.0,0.0,0.2,0.2,0.2,0.4,0.4,0.4,0.6,0.6,0.6,0.8,0.8,0.8,1.0,1.0,1.0,1.2,1.2,1.2,1.4,1.4,1.4,1.6,1.6,1.6,1.8,1.8,1.8,2.0,2.0,2.0,2.2,2.2,2.2,2.4,2.4,2.4,2.6,2.6,2.6,2.8,2.8,2.8,3.0,3.0,3.0],\"mode\":\"lines\"}], {\"yaxis\":{\"type\":\"-\",\"titlefont\":{\"size\":15,\"color\":\"rgba(0, 0, 0, 1.000)\",\"family\":\"Helvetica\"},\"title\":\"\",\"tickfont\":{\"size\":11,\"color\":\"rgba(0, 0, 0, 1.000)\",\"family\":\"Helvetica\"},\"tickmode\":\"array\",\"showgrid\":true,\"tickvals\":[0.2,0.4,0.6000000000000001,0.8,1.0],\"domain\":[0.057305336832895896,0.9901574803149605],\"ticktext\":[\"0.2\",\"0.4\",\"0.6\",\"0.8\",\"1.0\"],\"zeroline\":false,\"linecolor\":\"rgba(0, 0, 0, 1.000)\",\"tickcolor\":\"rgba(0, 0, 0, 1.000)\",\"anchor\":\"x\"},\"annotations\":[],\"width\":600,\"plot_bgcolor\":\"rgba(255, 255, 255, 1.000)\",\"showlegend\":true,\"legend\":{\"bgcolor\":\"rgba(255, 255, 255, 1.000)\",\"font\":{\"size\":11,\"color\":\"rgba(0, 0, 0, 1.000)\",\"family\":\"Helvetica\"},\"bordercolor\":\"rgba(0, 0, 0, 1.000)\"},\"xaxis\":{\"type\":\"-\",\"titlefont\":{\"size\":15,\"color\":\"rgba(0, 0, 0, 1.000)\",\"family\":\"Helvetica\"},\"title\":\"\",\"tickfont\":{\"size\":11,\"color\":\"rgba(0, 0, 0, 1.000)\",\"family\":\"Helvetica\"},\"tickmode\":\"array\",\"showgrid\":true,\"tickvals\":[0.0,0.5,1.0,1.5,2.0,2.5,3.0],\"domain\":[0.05905511811023622,0.9934383202099738],\"ticktext\":[\"0.0\",\"0.5\",\"1.0\",\"1.5\",\"2.0\",\"2.5\",\"3.0\"],\"zeroline\":false,\"linecolor\":\"rgba(0, 0, 0, 1.000)\",\"tickcolor\":\"rgba(0, 0, 0, 1.000)\",\"anchor\":\"y\"},\"paper_bgcolor\":\"rgba(255, 255, 255, 1.000)\",\"height\":400,\"margin\":{\"r\":0,\"l\":0,\"b\":0,\"t\":20}});\n",
       "    </script>\n"
      ]
     },
     "execution_count": 4,
     "metadata": {},
     "output_type": "execute_result"
    }
   ],
   "source": [
    "a=0\n",
    "b=3\n",
    "N=5\n",
    "h=1/N\n",
    "nodos=collect(a:h:b)\n",
    "f(x)=(e.^-x.^2).*(2/sqrt(pi))\n",
    "plot(nodos,f(nodos))\n",
    "vline!(nodos,linestyle=:dash)"
   ]
  },
  {
   "cell_type": "markdown",
   "metadata": {},
   "source": [
    "### 2. ¿Cómo calcular el valor de la integral entre x=a y x=b? \n",
    "\n",
    "$Q(f)=\\sum_{i=0}^N f(x_i) \\times h$\n",
    "\n",
    "donde $h=(b-a)/N$\n",
    "\n",
    "**¿Cuál es el valor de $x_i$?**\n",
    "+ $x_0=a$ y $x_N=b$\n",
    "+ Para $0<i<N$: $x_i=x_0+h*i$"
   ]
  },
  {
   "cell_type": "code",
   "execution_count": 25,
   "metadata": {
    "collapsed": false
   },
   "outputs": [],
   "source": [
    "#### Calculando la cota superior ####\n",
    "a=0\n",
    "b=3\n",
    "N=1000\n",
    "h=(b-a)/N\n",
    "f(x)=(e.^-x.^2).*(2/sqrt(pi))\n",
    "suma=0\n",
    "for i in 0:N\n",
    "    xi=a+h*i\n",
    "    suma += f(xi)*h\n",
    "end"
   ]
  },
  {
   "cell_type": "code",
   "execution_count": 26,
   "metadata": {
    "collapsed": false
   },
   "outputs": [
    {
     "data": {
      "text/plain": [
       "1.0016706865065856"
      ]
     },
     "execution_count": 26,
     "metadata": {},
     "output_type": "execute_result"
    }
   ],
   "source": [
    "suma"
   ]
  },
  {
   "cell_type": "code",
   "execution_count": 22,
   "metadata": {
    "collapsed": false
   },
   "outputs": [
    {
     "data": {
      "text/plain": [
       "0.9999779095030014"
      ]
     },
     "execution_count": 22,
     "metadata": {},
     "output_type": "execute_result"
    }
   ],
   "source": [
    "erf(3)"
   ]
  },
  {
   "cell_type": "code",
   "execution_count": 29,
   "metadata": {
    "collapsed": true
   },
   "outputs": [],
   "source": [
    "#### Calculando la cota inferior ####\n",
    "a=0\n",
    "b=3\n",
    "N=10000\n",
    "h=(b-a)/N\n",
    "f(x)=(e.^-x.^2).*(2/sqrt(pi))\n",
    "suma=0\n",
    "for i in 1:N\n",
    "    xi=a+h*i\n",
    "    suma += f(xi)*h\n",
    "end"
   ]
  },
  {
   "cell_type": "code",
   "execution_count": 30,
   "metadata": {
    "collapsed": false
   },
   "outputs": [
    {
     "data": {
      "text/plain": [
       "0.99980867350963"
      ]
     },
     "execution_count": 30,
     "metadata": {},
     "output_type": "execute_result"
    }
   ],
   "source": [
    "suma"
   ]
  },
  {
   "cell_type": "markdown",
   "metadata": {},
   "source": [
    "### 3.  Defina dos funciones,  que calculen la cota superior y la cota inferior, tomando como argumento *f*, *a*, *b* y *N*"
   ]
  },
  {
   "cell_type": "code",
   "execution_count": 32,
   "metadata": {
    "collapsed": false
   },
   "outputs": [
    {
     "data": {
      "text/plain": [
       "cota_s (generic function with 1 method)"
      ]
     },
     "execution_count": 32,
     "metadata": {},
     "output_type": "execute_result"
    }
   ],
   "source": [
    "function cota_s(f,a,b,N)\n",
    "    h=(b-a)/N\n",
    "    suma=0\n",
    "    for i in 1:N\n",
    "        xi=a+h*i\n",
    "        suma += f(xi)*h\n",
    "    end\n",
    "    return suma\n",
    "end\n"
   ]
  },
  {
   "cell_type": "code",
   "execution_count": 42,
   "metadata": {
    "collapsed": false
   },
   "outputs": [
    {
     "data": {
      "text/plain": [
       "2.81586908262456e-16"
      ]
     },
     "execution_count": 42,
     "metadata": {},
     "output_type": "execute_result"
    }
   ],
   "source": [
    "cota_s(sin,0,2*pi,1000)"
   ]
  },
  {
   "cell_type": "code",
   "execution_count": 41,
   "metadata": {
    "collapsed": false
   },
   "outputs": [
    {
     "data": {
      "text/plain": [
       "2.0"
      ]
     },
     "execution_count": 41,
     "metadata": {},
     "output_type": "execute_result"
    }
   ],
   "source": [
    "-cos(pi)-(-cos(0))"
   ]
  },
  {
   "cell_type": "markdown",
   "metadata": {},
   "source": [
    "**Métodos de integración más avanzados**\n",
    "\n",
    "1. Regla del trapecio\n",
    "2. Regla de Simpson\n",
    "3. Método Chebyshev (Proyecto)\n",
    "4. Cuadratura de Gauss"
   ]
  },
  {
   "cell_type": "markdown",
   "metadata": {},
   "source": [
    "### 4. Use el cambio de variable $x=t / (1-t^2)$ para calcular la integral en un dominio finito. A qué valor converge?\n",
    "\n",
    "$ \\frac{2}{\\sqrt{\\pi}}\\int_0^\\infty e^{-x^2} dx \\to \\frac{2}{\\sqrt{\\pi}}\\int_0^1 e^{-\\frac{t}{(1-t^2)}^2} dt (factor)$"
   ]
  },
  {
   "cell_type": "code",
   "execution_count": 48,
   "metadata": {
    "collapsed": false
   },
   "outputs": [
    {
     "data": {
      "text/plain": [
       "3-element Array{Float64,1}:\n",
       " 1.0     \n",
       " 0.0     \n",
       " 0.868815"
      ]
     },
     "execution_count": 48,
     "metadata": {},
     "output_type": "execute_result"
    }
   ],
   "source": [
    "f(t)=e.^-(t./(1.-t.^2)).^2\n",
    "f([0,1,3])"
   ]
  },
  {
   "cell_type": "markdown",
   "metadata": {},
   "source": [
    "### 5. Cómo saber qué tan buena es nuestra aproximación? ¿Cuál es la taza de convergencia hacia el resultado exacto, cuando $N \\to \\infty$ para $a=0$ y $b=x$ con $f(x)=e^{-x^2/2}$ para una $x$ fija? Grafique"
   ]
  },
  {
   "cell_type": "code",
   "execution_count": null,
   "metadata": {
    "collapsed": true
   },
   "outputs": [],
   "source": []
  }
 ],
 "metadata": {
  "kernelspec": {
   "display_name": "Julia 0.4.7",
   "language": "julia",
   "name": "julia-0.4"
  },
  "language_info": {
   "file_extension": ".jl",
   "mimetype": "application/julia",
   "name": "julia",
   "version": "0.4.7"
  }
 },
 "nbformat": 4,
 "nbformat_minor": 2
}
