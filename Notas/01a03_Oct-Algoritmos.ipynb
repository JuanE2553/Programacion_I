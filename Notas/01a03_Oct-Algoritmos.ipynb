{
 "cells": [
  {
   "cell_type": "code",
   "execution_count": 1,
   "metadata": {
    "collapsed": false
   },
   "outputs": [
    {
     "data": {
      "text/plain": [
       "Plots.PyPlotBackend()"
      ]
     },
     "execution_count": 1,
     "metadata": {},
     "output_type": "execute_result"
    }
   ],
   "source": [
    "using Plots\n",
    "pyplot()"
   ]
  },
  {
   "cell_type": "markdown",
   "metadata": {
    "slideshow": {
     "slide_type": "-"
    }
   },
   "source": [
    "# Algoritmos\n",
    "Un **algoritmo** consiste en una serie de instrucciones para que la computadora lleve acabo un cálculo en específico.\n",
    "\n",
    "Algunos algoritmos pueden llevar a cabo el cálculo en un número finito de pasos. En general esto no es cierto. Cuando no existe un procedimiento que nos de un resultado *exacto* en un número de pasos finitos, se emplea un *algoritmo iterativo*.\n",
    "\n",
    "## Algoritmos Iterativos\n",
    "\n",
    "Se comienza con una adivinanza $x_0$ y se le aplica un algoritmo/receta matemática/función *f* para producir el siguiente paso: $x_1 := f(x_0)$. Esto se repite cuantas veces sea necesario\n",
    "\n",
    "$$ x_{n+1} := f(x_n)$$\n",
    "\n",
    "con la esperanza que en el límite $n\\rightarrow\\infty$ el procedimiento converga a un valor $x^*$. Debido a que nos es imposible hacer una iteración infinita debemos definir cierta *tolerancia*; todos los algoritmos iterativos requieren de una condición de término.\n",
    "\n",
    "### Qué es y qué no es un algoritmo?\n",
    "09\n",
    "18\n",
    "27\n",
    "36\n",
    "\n",
    "## Bucle `while `\n",
    "Es una iteración infinita\n",
    "\n",
    "```julia\n",
    "while  <condición>\n",
    "    <cuerpo de la iteración>\n",
    "end\n",
    "```"
   ]
  },
  {
   "cell_type": "code",
   "execution_count": 6,
   "metadata": {
    "collapsed": false
   },
   "outputs": [
    {
     "data": {
      "text/plain": [
       "cuenta (generic function with 1 method)"
      ]
     },
     "execution_count": 6,
     "metadata": {},
     "output_type": "execute_result"
    }
   ],
   "source": [
    "function cuenta(n)\n",
    "    while n>0\n",
    "        println(n)\n",
    "        n -= 1 # equivalente n = n -1 \n",
    "        if n==3\n",
    "            break\n",
    "        end\n",
    "    end\n",
    "    println(\"Allá voy\")\n",
    "end"
   ]
  },
  {
   "cell_type": "code",
   "execution_count": 4,
   "metadata": {
    "collapsed": false,
    "scrolled": true,
    "slideshow": {
     "slide_type": "slide"
    }
   },
   "outputs": [
    {
     "name": "stdout",
     "output_type": "stream",
     "text": [
      "10\n",
      "9\n",
      "8\n",
      "7\n",
      "6\n",
      "Allá voy\n"
     ]
    }
   ],
   "source": [
    "cuenta(10)"
   ]
  },
  {
   "cell_type": "markdown",
   "metadata": {},
   "source": [
    "## `break`\n",
    "Corta la iteración y seguimos con la línea de código después del `end` de la iteración\n",
    "\n",
    "## `continue`\n",
    "Cortar la iteración que se está ejecutando y salta al siguiente paso de la iteración"
   ]
  },
  {
   "cell_type": "code",
   "execution_count": 7,
   "metadata": {
    "collapsed": false
   },
   "outputs": [
    {
     "name": "stdout",
     "output_type": "stream",
     "text": [
      "15\n",
      "14\n",
      "13\n",
      "12\n",
      "11\n",
      "10\n",
      "9\n",
      "8\n",
      "7\n",
      "6\n",
      "5\n",
      "4\n",
      "Allá voy\n"
     ]
    }
   ],
   "source": [
    "cuenta(15)"
   ]
  },
  {
   "cell_type": "code",
   "execution_count": 15,
   "metadata": {
    "collapsed": false
   },
   "outputs": [
    {
     "data": {
      "text/plain": [
       "cuentac (generic function with 1 method)"
      ]
     },
     "execution_count": 15,
     "metadata": {},
     "output_type": "execute_result"
    }
   ],
   "source": [
    "function cuentac(n)\n",
    "    while n>0\n",
    "        if n%3 == 0\n",
    "            n -= 1\n",
    "            continue  #regresar al principio del loop\n",
    "        end\n",
    "        println(n)\n",
    "        n -= 1 # equivalente n = n -1 \n",
    "        continue #no hace nada porque está al final del while\n",
    "    end\n",
    "    println(\"Allá voy\")\n",
    "end"
   ]
  },
  {
   "cell_type": "code",
   "execution_count": 16,
   "metadata": {
    "collapsed": false
   },
   "outputs": [
    {
     "name": "stdout",
     "output_type": "stream",
     "text": [
      "14\n",
      "13\n",
      "11\n",
      "10\n",
      "8\n",
      "7\n",
      "5\n",
      "4\n",
      "2\n",
      "1\n",
      "Allá voy\n"
     ]
    }
   ],
   "source": [
    "cuentac(14)"
   ]
  },
  {
   "cell_type": "markdown",
   "metadata": {
    "slideshow": {
     "slide_type": "slide"
    }
   },
   "source": [
    "## Algoritmo Babilónico\n",
    "\n",
    "También conocido como método de Newton para calcular la raíz cuadrada de un número real $\\sqrt{y}$\n",
    "\n",
    "$$x_{n+1} = \\frac{1}{2}(x_n+\\frac{y}{x_n})$$\n",
    "\n",
    "Queremos calcular $\\sqrt{2}$, comenzamos adivinando con $x_0=1$"
   ]
  },
  {
   "cell_type": "code",
   "execution_count": 17,
   "metadata": {
    "collapsed": false
   },
   "outputs": [
    {
     "data": {
      "text/plain": [
       "1.5"
      ]
     },
     "execution_count": 17,
     "metadata": {},
     "output_type": "execute_result"
    }
   ],
   "source": [
    "x0 = 1\n",
    "radicando=2\n",
    "y=0.5*(x0+radicando/x0)"
   ]
  },
  {
   "cell_type": "code",
   "execution_count": 18,
   "metadata": {
    "collapsed": false
   },
   "outputs": [
    {
     "data": {
      "text/plain": [
       "1.4166666666666665"
      ]
     },
     "execution_count": 18,
     "metadata": {},
     "output_type": "execute_result"
    }
   ],
   "source": [
    "x0=y\n",
    "y=0.5*(x0+radicando/x0)"
   ]
  },
  {
   "cell_type": "code",
   "execution_count": 19,
   "metadata": {
    "collapsed": false
   },
   "outputs": [
    {
     "data": {
      "text/plain": [
       "1.4142156862745097"
      ]
     },
     "execution_count": 19,
     "metadata": {},
     "output_type": "execute_result"
    }
   ],
   "source": [
    "x0=y\n",
    "y=0.5*(x0+radicando/x0)\n"
   ]
  },
  {
   "cell_type": "code",
   "execution_count": 20,
   "metadata": {
    "collapsed": false
   },
   "outputs": [
    {
     "data": {
      "text/plain": [
       "1.0000015018250927"
      ]
     },
     "execution_count": 20,
     "metadata": {},
     "output_type": "execute_result"
    }
   ],
   "source": [
    "ans/radicando^.5"
   ]
  },
  {
   "cell_type": "code",
   "execution_count": 52,
   "metadata": {
    "collapsed": false
   },
   "outputs": [
    {
     "data": {
      "text/plain": [
       "m_babilo (generic function with 2 methods)"
      ]
     },
     "execution_count": 52,
     "metadata": {},
     "output_type": "execute_result"
    }
   ],
   "source": [
    "#Tolerancia \n",
    "function m_babilo(radicando,xn,ϵ=10e-4)\n",
    "    xn1=0\n",
    "    while abs(radicando-xn^2)>ϵ\n",
    "        xn1=(xn+radicando/xn)*.5\n",
    "        xn=xn1\n",
    "    \n",
    "    end\n",
    "    println(xn,\" \",xn1)\n",
    "    \n",
    "    return xn\n",
    "end"
   ]
  },
  {
   "cell_type": "code",
   "execution_count": 54,
   "metadata": {
    "collapsed": false
   },
   "outputs": [
    {
     "name": "stdout",
     "output_type": "stream",
     "text": [
      "2.4494897959183675 2.4494897959183675\n"
     ]
    },
    {
     "data": {
      "text/plain": [
       "2.4494897959183675"
      ]
     },
     "execution_count": 54,
     "metadata": {},
     "output_type": "execute_result"
    }
   ],
   "source": [
    "m_babilo(6,2,10e-6)"
   ]
  },
  {
   "cell_type": "code",
   "execution_count": 56,
   "metadata": {
    "collapsed": false
   },
   "outputs": [
    {
     "data": {
      "text/plain": [
       "9"
      ]
     },
     "execution_count": 56,
     "metadata": {},
     "output_type": "execute_result"
    }
   ],
   "source": [
    "xn1=9"
   ]
  },
  {
   "cell_type": "code",
   "execution_count": 57,
   "metadata": {
    "collapsed": false
   },
   "outputs": [
    {
     "name": "stdout",
     "output_type": "stream",
     "text": [
      "2.8284685718801468 2.8284685718801468\n"
     ]
    },
    {
     "data": {
      "text/plain": [
       "2.8284685718801468"
      ]
     },
     "execution_count": 57,
     "metadata": {},
     "output_type": "execute_result"
    }
   ],
   "source": [
    "m_babilo(8,1)"
   ]
  },
  {
   "cell_type": "code",
   "execution_count": 58,
   "metadata": {
    "collapsed": false
   },
   "outputs": [
    {
     "data": {
      "text/plain": [
       "9"
      ]
     },
     "execution_count": 58,
     "metadata": {},
     "output_type": "execute_result"
    }
   ],
   "source": [
    "xn1"
   ]
  },
  {
   "cell_type": "code",
   "execution_count": 37,
   "metadata": {
    "collapsed": false
   },
   "outputs": [
    {
     "data": {
      "text/plain": [
       "-24.25990099009901"
      ]
     },
     "execution_count": 37,
     "metadata": {},
     "output_type": "execute_result"
    }
   ],
   "source": [
    "ans-50.5"
   ]
  },
  {
   "cell_type": "code",
   "execution_count": 60,
   "metadata": {
    "collapsed": false
   },
   "outputs": [
    {
     "name": "stdout",
     "output_type": "stream",
     "text": [
      "3.3166248052315686 3.3166248052315686\n"
     ]
    },
    {
     "data": {
      "text/plain": [
       "11.00000009867734"
      ]
     },
     "execution_count": 60,
     "metadata": {},
     "output_type": "execute_result"
    }
   ],
   "source": [
    "m_babilo(11,1)^2"
   ]
  },
  {
   "cell_type": "code",
   "execution_count": 63,
   "metadata": {
    "collapsed": false
   },
   "outputs": [
    {
     "name": "stdout",
     "output_type": "stream",
     "text": [
      "4.795831523329245 4.795831523329245\n"
     ]
    },
    {
     "data": {
      "text/plain": [
       "4.795831523329245"
      ]
     },
     "execution_count": 63,
     "metadata": {},
     "output_type": "execute_result"
    }
   ],
   "source": [
    "m_babilo(23,1,1e-8)"
   ]
  },
  {
   "cell_type": "markdown",
   "metadata": {},
   "source": [
    "## Método de la bisección\n",
    "\n",
    "Encontrar el tiempo de intesercción de una partícula en movimiento rectilíneo uniforme y otra que se mueve en un movimiento oscilatorio armónico\n",
    "\n",
    "$$ cos(t) =x_0-vt$$\n",
    "\n",
    "### Movimiento \n",
    "\n",
    "Vamos a visualizar el problema"
   ]
  },
  {
   "cell_type": "code",
   "execution_count": 34,
   "metadata": {
    "collapsed": false
   },
   "outputs": [
    {
     "data": {
      "text/plain": [
       "mru (generic function with 1 method)"
      ]
     },
     "execution_count": 34,
     "metadata": {},
     "output_type": "execute_result"
    }
   ],
   "source": [
    "mru(x0,v,t) = x0-v*t"
   ]
  },
  {
   "cell_type": "code",
   "execution_count": 35,
   "metadata": {
    "collapsed": false
   },
   "outputs": [
    {
     "data": {
      "text/plain": [
       "5"
      ]
     },
     "execution_count": 35,
     "metadata": {},
     "output_type": "execute_result"
    }
   ],
   "source": [
    "x0=0; v0=-10; v1=10; x1=5;\n"
   ]
  },
  {
   "cell_type": "code",
   "execution_count": 7,
   "metadata": {
    "collapsed": false
   },
   "outputs": [
    {
     "data": {
      "text/plain": [
       "0.0:0.1:5.0"
      ]
     },
     "execution_count": 7,
     "metadata": {},
     "output_type": "execute_result"
    }
   ],
   "source": [
    "t=0:0.1:5"
   ]
  },
  {
   "cell_type": "code",
   "execution_count": 11,
   "metadata": {
    "collapsed": false
   },
   "outputs": [
    {
     "data": {
      "text/html": [
       "<img src=\"data:image/png;base64,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\" />"
      ]
     },
     "execution_count": 11,
     "metadata": {},
     "output_type": "execute_result"
    }
   ],
   "source": [
    "plot(t,mru(x0,v0,t))\n",
    "plot!(t,mru(x0,v1,t))\n",
    "plot!(t,mru(x1,v1,t))\n",
    "plot!(t,cos(t),ylim=(-5,5))"
   ]
  },
  {
   "cell_type": "markdown",
   "metadata": {},
   "source": [
    "El problema se reduce a obtener la raíz de la función "
   ]
  },
  {
   "cell_type": "code",
   "execution_count": 12,
   "metadata": {
    "collapsed": false
   },
   "outputs": [
    {
     "data": {
      "text/html": [
       "<img src=\"data:image/png;base64,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\" />"
      ]
     },
     "execution_count": 12,
     "metadata": {},
     "output_type": "execute_result"
    }
   ],
   "source": [
    "F(x)=cos(x)-mru(3,2,x)\n",
    "\n",
    "plot(t,F(t))"
   ]
  },
  {
   "cell_type": "markdown",
   "metadata": {},
   "source": [
    "Si *F* es continua, una condición suficiente para que exista la raiz en un intervalo $[a,b]$ es que cambie el signo de $F$, *F(a)* y *F(b)* tengan singos opuestos. \n",
    "\n",
    "#### Podemos construir el siguiente procedimiento:\n",
    "\n",
    "1. Ubicar el punto medio del intervalo \n",
    "$$ c = (a+b)/2$$\n",
    "\n",
    "2. Revisar el signo de *F(c)* y compararlo con *F(a)* (o *F(b)*)\n",
    "    * Si signo de F(c) es igual a F(a), el intervalo en el cual está la raiz [c,b]\n",
    "    * Si signo de F(c) es distinto a F(a), la raiz está en [a,c]\n",
    "    \n",
    "y repetirlo las veces que sea necesario para acercarnos a la raiz. ¿Qué tan cerca queremos estar de la raíz?"
   ]
  },
  {
   "cell_type": "code",
   "execution_count": 45,
   "metadata": {
    "collapsed": false
   },
   "outputs": [
    {
     "data": {
      "text/plain": [
       "0"
      ]
     },
     "execution_count": 45,
     "metadata": {},
     "output_type": "execute_result"
    }
   ],
   "source": [
    "a=1     #Analizando la gráfica, con ojímetro, seleccionamos a y b\n",
    "b=2\n",
    "ϵ=1e-4  #Que tan cerca queremos estar de la raíz\n",
    "c=0     #se puede escoger casi cualquier c, EXCEPTO puntos cercanos a la raízb"
   ]
  },
  {
   "cell_type": "markdown",
   "metadata": {},
   "source": [
    "Vamos a usar la función `sign()` para comparar los signos"
   ]
  },
  {
   "cell_type": "code",
   "execution_count": 36,
   "metadata": {
    "collapsed": false,
    "scrolled": true
   },
   "outputs": [
    {
     "name": "stdout",
     "output_type": "stream",
     "text": [
      "search: \u001b[1ms\u001b[22m\u001b[1mi\u001b[22m\u001b[1mg\u001b[22m\u001b[1mn\u001b[22m \u001b[1ms\u001b[22m\u001b[1mi\u001b[22m\u001b[1mg\u001b[22m\u001b[1mn\u001b[22mif \u001b[1ms\u001b[22m\u001b[1mi\u001b[22m\u001b[1mg\u001b[22m\u001b[1mn\u001b[22med \u001b[1mS\u001b[22m\u001b[1mi\u001b[22m\u001b[1mg\u001b[22m\u001b[1mn\u001b[22med \u001b[1ms\u001b[22m\u001b[1mi\u001b[22m\u001b[1mg\u001b[22m\u001b[1mn\u001b[22mbit \u001b[1ms\u001b[22m\u001b[1mi\u001b[22m\u001b[1mg\u001b[22m\u001b[1mn\u001b[22mificand Un\u001b[1ms\u001b[22m\u001b[1mi\u001b[22m\u001b[1mg\u001b[22m\u001b[1mn\u001b[22med un\u001b[1ms\u001b[22m\u001b[1mi\u001b[22m\u001b[1mg\u001b[22m\u001b[1mn\u001b[22med flip\u001b[1ms\u001b[22m\u001b[1mi\u001b[22m\u001b[1mg\u001b[22m\u001b[1mn\u001b[22m\n",
      "\n"
     ]
    },
    {
     "data": {
      "text/markdown": [
       "```\n",
       "sign(x)\n",
       "```\n",
       "\n",
       "Return zero if `x==0` and $x/|x|$ otherwise (i.e., ±1 for real `x`).\n"
      ],
      "text/plain": [
       "```\n",
       "sign(x)\n",
       "```\n",
       "\n",
       "Return zero if `x==0` and $x/|x|$ otherwise (i.e., ±1 for real `x`).\n"
      ]
     },
     "execution_count": 36,
     "metadata": {},
     "output_type": "execute_result"
    }
   ],
   "source": [
    "?sign"
   ]
  },
  {
   "cell_type": "code",
   "execution_count": 31,
   "metadata": {
    "collapsed": false
   },
   "outputs": [
    {
     "name": "stdout",
     "output_type": "stream",
     "text": [
      "1 1.5 2\n",
      "1 1.25 1.5\n",
      "1.25 1.375 1.5\n",
      "1.375 1.4375 1.5\n",
      "1.375 1.40625 1.4375\n",
      "1.40625 1.421875 1.4375\n",
      "1.421875 1.4296875 1.4375\n"
     ]
    }
   ],
   "source": [
    "\n",
    "while abs(F(c))>ϵ\n",
    "    c=0.5*(a+b)\n",
    "    println(a,\" \",c, \" \",b)\n",
    "    if sign(F(c)) == sign(F(a))\n",
    "        a=c\n",
    "    else\n",
    "        b=c\n",
    "    end\n",
    "    \n",
    "end\n"
   ]
  },
  {
   "cell_type": "code",
   "execution_count": 32,
   "metadata": {
    "collapsed": false
   },
   "outputs": [
    {
     "data": {
      "text/plain": [
       "1.600666467696521e-5"
      ]
     },
     "execution_count": 32,
     "metadata": {},
     "output_type": "execute_result"
    }
   ],
   "source": [
    "F(c)"
   ]
  },
  {
   "cell_type": "markdown",
   "metadata": {},
   "source": [
    "## Otro ejemplo\n",
    "\n",
    "Vamos a buscar la raiz de un polinomio cualquiera. Usando el código anterior, encapsulado en una función con los argumentos ... ..."
   ]
  },
  {
   "cell_type": "code",
   "execution_count": 32,
   "metadata": {
    "collapsed": false
   },
   "outputs": [
    {
     "data": {
      "text/plain": [
       "biseccion (generic function with 4 methods)"
      ]
     },
     "execution_count": 32,
     "metadata": {},
     "output_type": "execute_result"
    }
   ],
   "source": [
    "function biseccion(a,b,F,ϵ=1e-4,max_i=10000)\n",
    "    c=0\n",
    "    i=0\n",
    "    while abs(F(c))>ϵ && i<max_i\n",
    "        i+=1\n",
    "        c=0.5*(a+b)\n",
    "        println(a,\" \",c, \" \",b)\n",
    "        if sign(F(c)) == sign(F(a))\n",
    "            a=c\n",
    "        else\n",
    "            b=c\n",
    "        end\n",
    "    end\n",
    "    print(\"La raiz( $(F(c)) ), está en $c\")\n",
    "end"
   ]
  },
  {
   "cell_type": "code",
   "execution_count": 42,
   "metadata": {
    "collapsed": false
   },
   "outputs": [
    {
     "data": {
      "text/plain": [
       "F (generic function with 1 method)"
      ]
     },
     "execution_count": 42,
     "metadata": {},
     "output_type": "execute_result"
    }
   ],
   "source": [
    "F(t)=t.^3-20t.^2+10*t+5\n"
   ]
  },
  {
   "cell_type": "markdown",
   "metadata": {},
   "source": [
    "Cuando usamos operadores más complicados debemos usar un punto, no  \"{Array}^2\" -> sí \"{Array}.^2\""
   ]
  },
  {
   "cell_type": "code",
   "execution_count": 43,
   "metadata": {
    "collapsed": false
   },
   "outputs": [
    {
     "data": {
      "text/plain": [
       "201-element Array{Float64,1}:\n",
       " -3095.0  \n",
       " -3024.5  \n",
       " -2954.99 \n",
       " -2886.47 \n",
       " -2818.94 \n",
       " -2752.38 \n",
       " -2686.78 \n",
       " -2622.16 \n",
       " -2558.49 \n",
       " -2495.77 \n",
       " -2434.0  \n",
       " -2373.17 \n",
       " -2313.27 \n",
       "     ⋮    \n",
       "  -785.231\n",
       "  -796.0  \n",
       "  -806.629\n",
       "  -817.112\n",
       "  -827.443\n",
       "  -837.616\n",
       "  -847.625\n",
       "  -857.464\n",
       "  -867.127\n",
       "  -876.608\n",
       "  -885.901\n",
       "  -895.0  "
      ]
     },
     "execution_count": 43,
     "metadata": {},
     "output_type": "execute_result"
    }
   ],
   "source": [
    "x=-10:0.1:10  #Para versiones más recientes x=[-10:0.1:10]\n",
    "F(x)"
   ]
  },
  {
   "cell_type": "code",
   "execution_count": null,
   "metadata": {
    "collapsed": true
   },
   "outputs": [],
   "source": [
    "plotly()\n",
    "plot(x,F(x))"
   ]
  },
  {
   "cell_type": "code",
   "execution_count": 25,
   "metadata": {
    "collapsed": false
   },
   "outputs": [
    {
     "data": {
      "text/html": [
       "<script src=\"/home/mvb/.julia/v0.4/Plots/deps/plotly-latest.min.js\"></script>    <div id=\"5dc92f8c-e904-4413-83f2-c80ab3694c3c\" style=\"width:600px;height:400px;\"></div>\n",
       "    <script>\n",
       "    PLOT = document.getElementById('5dc92f8c-e904-4413-83f2-c80ab3694c3c');\n",
       "    Plotly.plot(PLOT, [{\"yaxis\":\"y\",\"y\":[-3095.0,-3024.4990000000003,-2954.9920000000006,-2886.4729999999995,-2818.9359999999997,-2752.375,-2686.7840000000006,-2622.157,-2558.4879999999994,-2495.7709999999997,-2434.0,-2373.1690000000003,-2313.2720000000004,-2254.3029999999994,-2196.256,-2139.125,-2082.904,-2027.5870000000004,-1973.168,-1919.641,-1867.0,-1815.239,-1764.3519999999999,-1714.3330000000003,-1665.176,-1616.875,-1569.424,-1522.817,-1477.0480000000002,-1432.1109999999999,-1388.0,-1344.7090000000003,-1302.232,-1260.563,-1219.696,-1179.625,-1140.3440000000003,-1101.847,-1064.1280000000002,-1027.1809999999998,-991.0,-955.5790000000001,-920.9119999999999,-886.993,-853.8159999999999,-821.375,-789.6640000000001,-758.6769999999999,-728.4080000000001,-698.8509999999999,-670.0,-641.8490000000002,-614.3919999999999,-587.623,-561.536,-536.125,-511.384,-487.30699999999996,-463.88800000000003,-441.121,-419.0,-397.519,-376.672,-356.45300000000003,-336.85600000000005,-317.875,-299.50399999999996,-281.73699999999997,-264.56800000000004,-247.991,-232.0,-216.589,-201.75199999999998,-187.483,-173.776,-160.625,-148.024,-135.96699999999998,-124.44800000000001,-113.461,-103.0,-93.059,-83.632,-74.713,-66.29600000000002,-58.375,-50.943999999999996,-43.99700000000001,-37.528,-31.531000000000006,-26.0,-20.929000000000002,-16.312000000000005,-12.143,-8.416,-5.125,-2.264000000000001,0.17300000000000004,2.1919999999999997,3.799,5.0,5.801,6.208,6.227,5.863999999999999,5.125,4.016000000000001,2.543000000000001,0.711999999999998,-1.4710000000000036,-4.0,-6.869000000000003,-10.071999999999996,-13.603000000000005,-17.455999999999996,-21.625,-26.104000000000006,-30.887,-35.96800000000001,-41.34100000000001,-47.0,-52.93900000000001,-59.152000000000015,-65.63299999999998,-72.37599999999999,-79.375,-86.62400000000001,-94.117,-101.84799999999998,-109.81099999999998,-118.0,-126.40900000000002,-135.03200000000004,-143.863,-152.896,-162.125,-171.54400000000004,-181.147,-190.92800000000003,-200.881,-211.0,-221.279,-231.712,-242.29299999999995,-253.01600000000002,-263.875,-274.864,-285.97700000000003,-297.20799999999997,-308.55100000000004,-320.0,-331.549,-343.192,-354.923,-366.736,-378.625,-390.58399999999995,-402.6070000000001,-414.688,-426.821,-439.0,-451.2189999999998,-463.472,-475.75299999999993,-488.05600000000004,-500.375,-512.704,-525.0369999999999,-537.3679999999999,-549.691,-562.0,-574.289,-586.5520000000001,-598.7829999999999,-610.976,-623.125,-635.2240000000002,-647.267,-659.248,-671.1610000000001,-683.0,-694.7590000000001,-706.432,-718.013,-729.496,-740.875,-752.1439999999999,-763.2969999999999,-774.328,-785.2310000000002,-796.0,-806.6289999999999,-817.112,-827.443,-837.6160000000001,-847.625,-857.4639999999998,-867.127,-876.6080000000002,-885.901,-895.0],\"showlegend\":true,\"name\":\"y1\",\"type\":\"scatter\",\"xaxis\":\"x\",\"line\":{\"width\":1,\"dash\":\"solid\",\"color\":\"rgba(0, 154, 250, 1.000)\",\"shape\":\"linear\"},\"x\":[-10.0,-9.9,-9.8,-9.7,-9.6,-9.5,-9.4,-9.3,-9.2,-9.1,-9.0,-8.9,-8.8,-8.7,-8.6,-8.5,-8.4,-8.3,-8.2,-8.1,-8.0,-7.9,-7.8,-7.7,-7.6,-7.5,-7.4,-7.3,-7.2,-7.1,-7.0,-6.9,-6.8,-6.7,-6.6,-6.5,-6.4,-6.3,-6.2,-6.1,-6.0,-5.9,-5.8,-5.7,-5.6,-5.5,-5.4,-5.3,-5.2,-5.1,-5.0,-4.9,-4.8,-4.7,-4.6,-4.5,-4.4,-4.3,-4.2,-4.1,-4.0,-3.9,-3.8,-3.7,-3.6,-3.5,-3.4,-3.3,-3.2,-3.1,-3.0,-2.9,-2.8,-2.7,-2.6,-2.5,-2.4,-2.3,-2.2,-2.1,-2.0,-1.9,-1.8,-1.7,-1.6,-1.5,-1.4,-1.3,-1.2,-1.1,-1.0,-0.9,-0.8,-0.7,-0.6,-0.5,-0.4,-0.3,-0.2,-0.1,0.0,0.1,0.2,0.3,0.4,0.5,0.6,0.7,0.8,0.9,1.0,1.1,1.2,1.3,1.4,1.5,1.6,1.7,1.8,1.9,2.0,2.1,2.2,2.3,2.4,2.5,2.6,2.7,2.8,2.9,3.0,3.1,3.2,3.3,3.4,3.5,3.6,3.7,3.8,3.9,4.0,4.1,4.2,4.3,4.4,4.5,4.6,4.7,4.8,4.9,5.0,5.1,5.2,5.3,5.4,5.5,5.6,5.7,5.8,5.9,6.0,6.1,6.2,6.3,6.4,6.5,6.6,6.7,6.8,6.9,7.0,7.1,7.2,7.3,7.4,7.5,7.6,7.7,7.8,7.9,8.0,8.1,8.2,8.3,8.4,8.5,8.6,8.7,8.8,8.9,9.0,9.1,9.2,9.3,9.4,9.5,9.6,9.7,9.8,9.9,10.0],\"mode\":\"lines\"}], {\"yaxis\":{\"type\":\"-\",\"titlefont\":{\"size\":15,\"color\":\"rgba(0, 0, 0, 1.000)\",\"family\":\"Helvetica\"},\"title\":\"\",\"tickfont\":{\"size\":11,\"color\":\"rgba(0, 0, 0, 1.000)\",\"family\":\"Helvetica\"},\"range\":[-50,5],\"tickmode\":\"array\",\"showgrid\":true,\"tickvals\":[-50.0,-40.0,-30.0,-20.0,-10.0,0.0],\"domain\":[0.057305336832895896,0.9901574803149605],\"ticktext\":[\"-50\",\"-40\",\"-30\",\"-20\",\"-10\",\"0\"],\"zeroline\":false,\"linecolor\":\"rgba(0, 0, 0, 1.000)\",\"tickcolor\":\"rgba(0, 0, 0, 1.000)\",\"anchor\":\"x\"},\"annotations\":[],\"width\":600,\"plot_bgcolor\":\"rgba(255, 255, 255, 1.000)\",\"showlegend\":true,\"legend\":{\"bgcolor\":\"rgba(255, 255, 255, 1.000)\",\"font\":{\"size\":11,\"color\":\"rgba(0, 0, 0, 1.000)\",\"family\":\"Helvetica\"},\"bordercolor\":\"rgba(0, 0, 0, 1.000)\"},\"xaxis\":{\"type\":\"-\",\"titlefont\":{\"size\":15,\"color\":\"rgba(0, 0, 0, 1.000)\",\"family\":\"Helvetica\"},\"title\":\"\",\"tickfont\":{\"size\":11,\"color\":\"rgba(0, 0, 0, 1.000)\",\"family\":\"Helvetica\"},\"range\":[-2.5,2.5],\"tickmode\":\"array\",\"showgrid\":true,\"tickvals\":[-2.0,-1.0,0.0,1.0,2.0],\"domain\":[0.05905511811023622,0.9934383202099738],\"ticktext\":[\"-2\",\"-1\",\"0\",\"1\",\"2\"],\"zeroline\":false,\"linecolor\":\"rgba(0, 0, 0, 1.000)\",\"tickcolor\":\"rgba(0, 0, 0, 1.000)\",\"anchor\":\"y\"},\"paper_bgcolor\":\"rgba(255, 255, 255, 1.000)\",\"height\":400,\"margin\":{\"r\":0,\"l\":0,\"b\":0,\"t\":20}});\n",
       "    </script>\n"
      ]
     },
     "execution_count": 25,
     "metadata": {},
     "output_type": "execute_result"
    }
   ],
   "source": [
    "plot(x,F(x),xlim=(-2.5,2.5),ylim=(-50,5))\n"
   ]
  },
  {
   "cell_type": "code",
   "execution_count": 31,
   "metadata": {
    "collapsed": false
   },
   "outputs": [
    {
     "name": "stdout",
     "output_type": "stream",
     "text": [
      "0 1.25 2.5\n",
      "0 0.625 1.25\n",
      "0.625 0.9375 1.25\n",
      "0.625 0.78125 0.9375\n",
      "0.78125 0.859375 0.9375\n",
      "0.78125 0.8203125 0.859375\n",
      "0.8203125 0.83984375 0.859375\n",
      "0.8203125 0.830078125 0.83984375\n",
      "0.830078125 0.8349609375 0.83984375\n",
      "0.830078125 0.83251953125 0.8349609375\n",
      "0.83251953125 0.833740234375 0.8349609375\n",
      "0.833740234375 0.8343505859375 0.8349609375\n",
      "0.8343505859375 0.83465576171875 0.8349609375\n",
      "0.8343505859375 0.834503173828125 0.83465576171875\n",
      "0.8343505859375 0.8344268798828125 0.834503173828125\n",
      "0.8343505859375 0.8343887329101562 0.8344268798828125\n",
      "0.8343887329101562 0.8344078063964844 0.8344268798828125\n",
      "0.8344078063964844 0.8344173431396484 0.8344268798828125\n",
      "La raiz(9.237718569465869e-5, está en 0.8344173431396484"
     ]
    }
   ],
   "source": [
    "biseccion(0,2.5,F)"
   ]
  },
  {
   "cell_type": "code",
   "execution_count": 33,
   "metadata": {
    "collapsed": false
   },
   "outputs": [
    {
     "name": "stdout",
     "output_type": "stream",
     "text": [
      "-2.5 -1.3 -0.1\n",
      "-1.3 -0.7000000000000001 -0.1\n",
      "-0.7000000000000001 -0.4 -0.1\n",
      "-0.4 -0.25 -0.1\n",
      "-0.4 -0.325 -0.25\n",
      "-0.325 -0.2875 -0.25\n",
      "-0.325 -0.30625 -0.2875\n",
      "-0.325 -0.31562500000000004 -0.30625\n",
      "-0.31562500000000004 -0.31093750000000003 -0.30625\n",
      "-0.31093750000000003 -0.30859375 -0.30625\n",
      "-0.30859375 -0.307421875 -0.30625\n",
      "-0.30859375 -0.3080078125 -0.307421875\n",
      "-0.3080078125 -0.30771484375 -0.307421875\n",
      "La raiz( -5.3972705267746335e-5 ), está en -0.30771484375"
     ]
    }
   ],
   "source": [
    "biseccion(-2.5,-0.1,F)"
   ]
  },
  {
   "cell_type": "code",
   "execution_count": 27,
   "metadata": {
    "collapsed": false
   },
   "outputs": [
    {
     "data": {
      "text/plain": [
       "-5.3972705267746335e-5"
      ]
     },
     "execution_count": 27,
     "metadata": {},
     "output_type": "execute_result"
    }
   ],
   "source": [
    "F(-0.30771484375)"
   ]
  },
  {
   "cell_type": "code",
   "execution_count": null,
   "metadata": {
    "collapsed": true
   },
   "outputs": [],
   "source": []
  }
 ],
 "metadata": {
  "kernelspec": {
   "display_name": "Julia 0.4.7",
   "language": "julia",
   "name": "julia-0.4"
  },
  "language_info": {
   "file_extension": ".jl",
   "mimetype": "application/julia",
   "name": "julia",
   "version": "0.4.7"
  }
 },
 "nbformat": 4,
 "nbformat_minor": 2
}
