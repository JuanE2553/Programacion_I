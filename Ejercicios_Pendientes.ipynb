{
 "cells": [
  {
   "cell_type": "markdown",
   "metadata": {},
   "source": [
    "# Caminantes aleatorios\n",
    "\n",
    "\n",
    "**Ejercicios pendientes**\n",
    "\n",
    "Haz una simulación de N caminantes aleatorios que caminen T pasos\n",
    "\n",
    "1. Calcule la varianza de la posición de los caminantes con respecto al origen, como función de los pasos (o el tiempo)\n",
    "\n",
    "**Haga una simulación de N caminantes con sesgo. **\n",
    "\n",
    "Las caminatas hasta ahora han brincado con la misma probabilidad a la izquierda y a la derecha. Ahora vamos a relajar esta restricción.\n",
    "\n",
    "2. Simula $N = 1000$ números aleatorios entre $0$ y $1$ con la función rand.\n",
    "\n",
    "3. Calcula la fracción de los números que salgan menores que 0.1, menores que 0.2, menores que 0.3, etc, es decir, la probabilidad de que salgan menores que 0.1 etc. ¿Qué observas?\n",
    "\n",
    "4. Así, escribe una función mi_rand que acepte un valor $0 \\le p \\le 1$ y regrese `true` con probabilidad $p$, y `false` con probabilidad $1-p$. \n",
    "\n",
    "5. Usa la función `mi_rand` para generar caminantes aleatorios con sesgo y dibuje nubes de trayectorias para distintos valores de $p$.\n",
    "\n",
    "6. Calcule las distancias promedio, desviación estándar y la densidad de probabilidad como función del tiempo para distintos valores de $p$.\n"
   ]
  },
  {
   "cell_type": "code",
   "execution_count": 6,
   "metadata": {
    "collapsed": true
   },
   "outputs": [
    {
     "data": {
      "text/plain": [
       "1000-element Array{Float64,1}:\n",
       " 0.664455 \n",
       " 0.280493 \n",
       " 0.955385 \n",
       " 0.38183  \n",
       " 0.579526 \n",
       " 0.0590104\n",
       " 0.0385397\n",
       " 0.877408 \n",
       " 0.560558 \n",
       " 0.608681 \n",
       " 0.733505 \n",
       " 0.108389 \n",
       " 0.409839 \n",
       " ⋮        \n",
       " 0.315305 \n",
       " 0.060651 \n",
       " 0.461592 \n",
       " 0.453364 \n",
       " 0.845991 \n",
       " 0.697468 \n",
       " 0.685141 \n",
       " 0.882813 \n",
       " 0.784175 \n",
       " 0.815947 \n",
       " 0.598514 \n",
       " 0.12563  "
      ]
     },
     "execution_count": 6,
     "metadata": {},
     "output_type": "execute_result"
    }
   ],
   "source": [
    "# Inciso 1\n",
    "N=1000\n",
    "aleatorios=rand(N)"
   ]
  },
  {
   "cell_type": "code",
   "execution_count": 20,
   "metadata": {
    "collapsed": false
   },
   "outputs": [
    {
     "name": "stdout",
     "output_type": "stream",
     "text": [
      "[121.0,235.0,333.0,423.0,512.0,605.0,696.0,805.0,907.0,1000.0]\n"
     ]
    },
    {
     "data": {
      "text/plain": [
       "10-element Array{Float64,1}:\n",
       " 0.121\n",
       " 0.235\n",
       " 0.333\n",
       " 0.423\n",
       " 0.512\n",
       " 0.605\n",
       " 0.696\n",
       " 0.805\n",
       " 0.907\n",
       " 1.0  "
      ]
     },
     "execution_count": 20,
     "metadata": {},
     "output_type": "execute_result"
    }
   ],
   "source": [
    "# Inciso 2\n",
    "aletarios = rand(N)\n",
    "h = collect(0.1:0.1:1)\n",
    "cuenta = zeros(length(h))\n",
    "for j in 1:length(h)\n",
    "    for i in 1:length(aleatorios)\n",
    "        if aleatorios[i] <= h[j]\n",
    "            cuenta[j] += 1\n",
    "        end\n",
    "    end\n",
    "end\n",
    "println(cuenta)\n",
    "prob = cuenta./N"
   ]
  },
  {
   "cell_type": "markdown",
   "metadata": {},
   "source": [
    "\n",
    "## Métodos Monte Carlo\n",
    "\n",
    "Cuando calculamos el valor de $\\pi$, usando procesos aleatorios tuvimos problemas con la memoria.\n",
    "\n",
    "1. ¿Cuántos números aleatorios puede lanzar SU computadora antes de quedarse sin memoria?\n",
    "2. ¿Cómo mejoraria el uso de la memoria, de tal manera que pueda calcular $\\pi$ con precisión arbitraria.\n",
    "3. Calcule $\\pi$ con un error, al comparar con el pi de julia, de menos del 0.01%\n",
    "\n",
    "Considera la función complicada (patológica) $$f(x) = \\sin^2 (\\textstyle \\frac{1}{x}).$$\n",
    "\n",
    "1. Dibuja la función para $x$ entre $-2$ y $2$.\n",
    "\n",
    "Sea $I(x) := \\int_0^x f(x') dx'$. Sabemos que $0 < I(x) < x$ para toda $x$ (¿por qué?), pero no está fácil calcular su valor, ni siquiera con los métodos numéricos estándares, debido a la naturaleza complicada de la función cerca de $x = 0$.\n",
    "\n",
    "2. Utiliza un método parecido al que usamos antes para calcular $I(x)$ para un valor de $x$ dado.\n",
    "\n",
    "3. Dibuja la función $I(x)$.\n"
   ]
  },
  {
   "cell_type": "code",
   "execution_count": null,
   "metadata": {
    "collapsed": true
   },
   "outputs": [],
   "source": []
  },
  {
   "cell_type": "markdown",
   "metadata": {},
   "source": [
    "# Diferencias finitas e integración\n",
    "\n",
    "**Derivada numérica**\n",
    "\n",
    "1. Desarrolle $f(a+h)$ en una serie de Taylor alrededor de $a$ y derive la expresión aproximada para la derivada que ya conocemos. Ahora puede decir algo sobre el tamaño del error.\n",
    "\n",
    "2. Grafique el error de nuestra aproximación numérica a la derivada y compárelo con el resultado anterior. ¿Concuerdan?\n",
    "\n",
    "**Integración numérica**\n",
    "\n",
    "3. ¿Cómo saber qué tan buena es nuestra aproximación al valor de la integral? ¿Cuál es la taza de convergencia hacia el resultado exacto, cuando $N \\to \\infty$ para $a=0$ y $b=x$ con $f(x)=e^{-x^2/2}$ para una $x$ fija? Grafique.\n",
    "\n",
    "4. Implemente la [regla de Simpson][1] y demuestre que el error asociado es $\\propto \\mathcal{ O }(h^4)$\n",
    "\n",
    "[1]: https://en.wikipedia.org/wiki/Simpson%27s_rule\n"
   ]
  },
  {
   "cell_type": "code",
   "execution_count": null,
   "metadata": {
    "collapsed": true
   },
   "outputs": [],
   "source": []
  },
  {
   "cell_type": "markdown",
   "metadata": {},
   "source": [
    "# Método de Euler\n",
    "\n",
    "1. Con distintos pasos (h= 0.5, 0.05, 0.01, 0.005 y h=0.001). Integre la siguiente ecuación:\n",
    "\n",
    "    $$y'-y= -\\frac{1}{2}e^{t/2}\\sin{(5t)}+ 5e^{t/2}\\cos{(5t)},\\ \\ \\ y(0)=0$$ \n",
    "    **Muestre una gráfica con los resultados y la solución exacta $y(t)=e^{t/2}\\sin{5t}$**\n",
    "    \n",
    "2. Calcule el error de cada aproximación. Grafique el error como función de h. \n",
    "\n",
    "3. Considera la ecuación diferencial nolineal $\\dot{x} = x \\,(1-x)$ que modela la dinámica de una población. Resúelvela numéricamente desde distintas condiciones iniciales (que sean físicamente relevantes) y dibuja las soluciones correspondientes. Interpreta el resultado."
   ]
  },
  {
   "cell_type": "code",
   "execution_count": null,
   "metadata": {
    "collapsed": true
   },
   "outputs": [],
   "source": []
  }
 ],
 "metadata": {
  "kernelspec": {
   "display_name": "Julia 0.4.7",
   "language": "julia",
   "name": "julia-0.4"
  },
  "language_info": {
   "file_extension": ".jl",
   "mimetype": "application/julia",
   "name": "julia",
   "version": "0.4.7"
  }
 },
 "nbformat": 4,
 "nbformat_minor": 2
}
