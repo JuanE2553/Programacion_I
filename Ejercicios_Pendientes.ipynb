{
 "cells": [
  {
   "cell_type": "markdown",
   "metadata": {},
   "source": [
    "# Caminantes aleatorios\n",
    "\n",
    "\n",
    "**Ejercicios pendientes**\n",
    "\n",
    "Haz una simulación de N caminantes aleatorios que caminen T pasos\n",
    "\n",
    "1. Calcule la varianza de la posición de los caminantes con respecto al origen, como función de los pasos (o el tiempo)\n",
    "\n",
    "**Haga una simulación de N caminantes con sesgo. **\n",
    "\n",
    "Las caminatas hasta ahora han brincado con la misma probabilidad a la izquierda y a la derecha. Ahora vamos a relajar esta restricción.\n",
    "\n",
    "2. Simula $N = 1000$ números aleatorios entre $0$ y $1$ con la función rand.\n",
    "\n",
    "3. Calcula la fracción de los números que salgan menores que 0.1, menores que 0.2, menores que 0.3, etc, es decir, la probabilidad de que salgan menores que 0.1 etc. ¿Qué observas?\n",
    "\n",
    "4. Así, escribe una función mi_rand que acepte un valor $0 \\le p \\le 1$ y regrese `true` con probabilidad $p$, y `false` con probabilidad $1-p$. \n",
    "\n",
    "5. Usa la función `mi_rand` para generar caminantes aleatorios con sesgo y dibuje nubes de trayectorias para distintos valores de $p$.\n",
    "\n",
    "6. Calcule las distancias promedio, desviación estándar y la densidad de probabilidad como función del tiempo para distintos valores de $p$.\n"
   ]
  },
  {
   "cell_type": "code",
   "execution_count": null,
   "metadata": {
    "collapsed": true
   },
   "outputs": [],
   "source": []
  },
  {
   "cell_type": "markdown",
   "metadata": {},
   "source": [
    "\n",
    "## Métodos Monte Carlo\n",
    "\n",
    "Cuando calculamos el valor de $\\pi$, usando procesos aleatorios tuvimos problemas con la memoria.\n",
    "\n",
    "1. ¿Cuántos números aleatorios puede lanzar SU computadora antes de quedarse sin memoria?\n",
    "2. ¿Cómo mejoraria el uso de la memoria, de tal manera que pueda calcular $\\pi$ con precisión arbitraria.\n",
    "3. Calcule $\\pi$ con un error, al comparar con el pi de julia, de menos del 0.01%\n",
    "\n",
    "Considera la función complicada (patológica) $$f(x) = \\sin^2 (\\textstyle \\frac{1}{x}).$$\n",
    "\n",
    "1. Dibuja la función para $x$ entre $-2$ y $2$.\n",
    "\n",
    "Sea $I(x) := \\int_0^x f(x') dx'$. Sabemos que $0 < I(x) < x$ para toda $x$ (¿por qué?), pero no está fácil calcular su valor, ni siquiera con los métodos numéricos estándares, debido a la naturaleza complicada de la función cerca de $x = 0$.\n",
    "\n",
    "2. Utiliza un método parecido al que usamos antes para calcular $I(x)$ para un valor de $x$ dado.\n",
    "\n",
    "3. Dibuja la función $I(x)$.\n"
   ]
  },
  {
   "cell_type": "code",
   "execution_count": null,
   "metadata": {
    "collapsed": true
   },
   "outputs": [],
   "source": []
  },
  {
   "cell_type": "markdown",
   "metadata": {},
   "source": [
    "# Diferencias finitas e integración\n",
    "\n",
    "**Derivada numérica**\n",
    "\n",
    "1. Desarrolle $f(a+h)$ en una serie de Taylor alrededor de $a$ y derive la expresión aproximada para la derivada que ya conocemos. Ahora puede decir algo sobre el tamaño del error.\n",
    "\n",
    "2. Grafique el error de nuestra aproximación numérica a la derivada y compárelo con el resultado anterior. ¿Concuerdan?\n",
    "\n",
    "**Integración numérica**\n",
    "\n",
    "3. ¿Cómo saber qué tan buena es nuestra aproximación al valor de la integral? ¿Cuál es la taza de convergencia hacia el resultado exacto, cuando $N \\to \\infty$ para $a=0$ y $b=x$ con $f(x)=e^{-x^2/2}$ para una $x$ fija? Grafique.\n",
    "\n",
    "4. Implemente la [regla de Simpson][1] y demuestre que el error asociado es $\\propto \\mathcal{ O }(h^4)$\n",
    "\n",
    "[1]: https://en.wikipedia.org/wiki/Simpson%27s_rule\n"
   ]
  },
  {
   "cell_type": "code",
   "execution_count": null,
   "metadata": {
    "collapsed": true
   },
   "outputs": [],
   "source": []
  }
 ],
 "metadata": {
  "kernelspec": {
   "display_name": "Julia 0.4.7",
   "language": "julia",
   "name": "julia-0.4"
  },
  "language_info": {
   "file_extension": ".jl",
   "mimetype": "application/julia",
   "name": "julia",
   "version": "0.4.7"
  }
 },
 "nbformat": 4,
 "nbformat_minor": 2
}
