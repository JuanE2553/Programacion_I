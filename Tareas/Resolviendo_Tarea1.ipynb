{
 "cells": [
  {
   "cell_type": "markdown",
   "metadata": {},
   "source": [
    "## Problema 1\n",
    "Es un  problema de conversión de unidades. Time expresa el número de segundos que han pasado desde \"la época\"\n",
    "\n",
    "\n",
    "\n",
    "$$time()=time()\\times \\frac{1\\ min}{60\\ s}\\frac{1 hr}{60 min}\\frac{1 d}{24hr} = \\#días$$\n",
    "\n",
    "Vamos a usar el operador `%` para obtener el residuo."
   ]
  },
  {
   "cell_type": "code",
   "execution_count": 1,
   "metadata": {
    "collapsed": false
   },
   "outputs": [
    {
     "name": "stdout",
     "output_type": "stream",
     "text": [
      "search: \u001b[1m%\u001b[22m .\u001b[1m%\u001b[22m\n",
      "\n"
     ]
    },
    {
     "data": {
      "text/markdown": [
       "```\n",
       "rem(x, y)\n",
       "%(x, y)\n",
       "```\n",
       "\n",
       "Remainder from Euclidean division, returning a value of the same sign as `x`, and smaller in magnitude than `y`. This value is always exact.\n"
      ],
      "text/plain": [
       "```\n",
       "rem(x, y)\n",
       "%(x, y)\n",
       "```\n",
       "\n",
       "Remainder from Euclidean division, returning a value of the same sign as `x`, and smaller in magnitude than `y`. This value is always exact.\n"
      ]
     },
     "execution_count": 1,
     "metadata": {},
     "output_type": "execute_result"
    }
   ],
   "source": [
    "?%"
   ]
  },
  {
   "cell_type": "code",
   "execution_count": 4,
   "metadata": {
    "collapsed": false
   },
   "outputs": [
    {
     "name": "stdout",
     "output_type": "stream",
     "text": [
      "Desde la época han pasado \n",
      " 17808.0 d 19.0 hr 5.0 m 52.0 s\n"
     ]
    }
   ],
   "source": [
    "seg=time()\n",
    "dias=time()/(60*60*24)\n",
    "residuo_seg = (seg)%(60*60*24)\n",
    "horas  = residuo_seg/(3600)\n",
    "residuo_seg_2=residuo_seg%(3600)\n",
    "min = residuo_seg_2/60\n",
    "residuo_seg3=residuo_seg_2%60\n",
    "\n",
    "println(\"Desde la época han pasado \\n $(ceil(dias)) d $(ceil(horas)) hr $(ceil(min)) m $(ceil(residuo_seg3)) s\")\n"
   ]
  },
  {
   "cell_type": "markdown",
   "metadata": {},
   "source": [
    "## Problema 2\n"
   ]
  },
  {
   "cell_type": "markdown",
   "metadata": {},
   "source": [
    "### Inciso a)"
   ]
  },
  {
   "cell_type": "code",
   "execution_count": 17,
   "metadata": {
    "collapsed": false
   },
   "outputs": [
    {
     "data": {
      "text/plain": [
       "rejilla2x2 (generic function with 1 method)"
      ]
     },
     "execution_count": 17,
     "metadata": {},
     "output_type": "execute_result"
    }
   ],
   "source": [
    "function rejilla2x2()\n",
    "    mas=\"+\"\n",
    "    menos=\"-\"\n",
    "    barra=\"|\"\n",
    "    espacio=\" \"\n",
    "    for i in 1:11\n",
    "        linea=\"\"\n",
    "        for j in 1:11\n",
    "            if (i-1)%5 == 0\n",
    "                if(j-1)%5 == 0\n",
    "                    linea*=mas\n",
    "                elseif (j-1)%5 != 0\n",
    "                    linea*=menos\n",
    "                end\n",
    "            else\n",
    "                if(j-1)%5 == 0\n",
    "                    linea*=barra\n",
    "                else\n",
    "                    linea*=espacio\n",
    "                end\n",
    "            end\n",
    "        end\n",
    "        println(linea)\n",
    "    end\n",
    "end\n"
   ]
  },
  {
   "cell_type": "code",
   "execution_count": 18,
   "metadata": {
    "collapsed": false
   },
   "outputs": [
    {
     "name": "stdout",
     "output_type": "stream",
     "text": [
      "+----+----+\n",
      "|    |    |\n",
      "|    |    |\n",
      "|    |    |\n",
      "|    |    |\n",
      "+----+----+\n",
      "|    |    |\n",
      "|    |    |\n",
      "|    |    |\n",
      "|    |    |\n",
      "+----+----+\n"
     ]
    }
   ],
   "source": [
    "rejilla2x2()"
   ]
  },
  {
   "cell_type": "markdown",
   "metadata": {},
   "source": [
    "### Inciso b)\n",
    "En este caso vamos a resolver el problema general. Nuestra función podrá crear rejillas cuadrada de N columnas por N renglones. \n",
    "\n",
    "*rejillaNxN(N)* acepta un argumento que es igual al número de columnas que queremos:"
   ]
  },
  {
   "cell_type": "code",
   "execution_count": 40,
   "metadata": {
    "collapsed": false
   },
   "outputs": [
    {
     "data": {
      "text/plain": [
       "rejillaNxN (generic function with 1 method)"
      ]
     },
     "execution_count": 40,
     "metadata": {},
     "output_type": "execute_result"
    }
   ],
   "source": [
    "function rejillaNxN(N)\n",
    "    mas=\"+\"\n",
    "    menos=\"-\"\n",
    "    barra=\"|\"\n",
    "    espacio=\" \"\n",
    "    for i in 1:(5*N+1)\n",
    "        linea=\"\"\n",
    "        for j in 1:5*N+1\n",
    "            if (i-1)%5 == 0\n",
    "                if(j-1)%5 == 0\n",
    "                    linea*=mas\n",
    "                elseif (j-1)%5 != 0\n",
    "                    linea*=menos\n",
    "                end\n",
    "            else\n",
    "                if(j-1)%5 == 0\n",
    "                    linea*=barra\n",
    "                else\n",
    "                    linea*=espacio\n",
    "                end\n",
    "            end\n",
    "        end\n",
    "        println(linea)\n",
    "    end\n",
    "end\n"
   ]
  },
  {
   "cell_type": "code",
   "execution_count": 42,
   "metadata": {
    "collapsed": false
   },
   "outputs": [
    {
     "name": "stdout",
     "output_type": "stream",
     "text": [
      "+----+----+----+----+----+\n",
      "|    |    |    |    |    |\n",
      "|    |    |    |    |    |\n",
      "|    |    |    |    |    |\n",
      "|    |    |    |    |    |\n",
      "+----+----+----+----+----+\n",
      "|    |    |    |    |    |\n",
      "|    |    |    |    |    |\n",
      "|    |    |    |    |    |\n",
      "|    |    |    |    |    |\n",
      "+----+----+----+----+----+\n",
      "|    |    |    |    |    |\n",
      "|    |    |    |    |    |\n",
      "|    |    |    |    |    |\n",
      "|    |    |    |    |    |\n",
      "+----+----+----+----+----+\n",
      "|    |    |    |    |    |\n",
      "|    |    |    |    |    |\n",
      "|    |    |    |    |    |\n",
      "|    |    |    |    |    |\n",
      "+----+----+----+----+----+\n",
      "|    |    |    |    |    |\n",
      "|    |    |    |    |    |\n",
      "|    |    |    |    |    |\n",
      "|    |    |    |    |    |\n",
      "+----+----+----+----+----+\n"
     ]
    }
   ],
   "source": [
    "rejillaNxN(5)"
   ]
  },
  {
   "cell_type": "markdown",
   "metadata": {},
   "source": [
    "## Problema 3\n",
    "\n",
    "### Inciso a)\n",
    "Definiendo la función"
   ]
  },
  {
   "cell_type": "code",
   "execution_count": 56,
   "metadata": {
    "collapsed": false
   },
   "outputs": [
    {
     "data": {
      "text/plain": [
       "fermat (generic function with 1 method)"
      ]
     },
     "execution_count": 56,
     "metadata": {},
     "output_type": "execute_result"
    }
   ],
   "source": [
    "function fermat(a,b,c,n)\n",
    "    if n >2 \n",
    "        if a^n+b^n==c^n\n",
    "            println(\"Santos cielos, Batman! Fermat estaba mal\")\n",
    "        else\n",
    "            println(\"No, esta combinación no funciona\")\n",
    "    \n",
    "        end\n",
    "    else\n",
    "        println(\"n debe ser mayor a 2\")\n",
    "    end\n",
    "end\n"
   ]
  },
  {
   "cell_type": "code",
   "execution_count": 51,
   "metadata": {
    "collapsed": false
   },
   "outputs": [
    {
     "name": "stdout",
     "output_type": "stream",
     "text": [
      "No, esta combinación no funciona\n"
     ]
    }
   ],
   "source": [
    "fermat(1,2,3,5)"
   ]
  },
  {
   "cell_type": "code",
   "execution_count": 57,
   "metadata": {
    "collapsed": false
   },
   "outputs": [
    {
     "name": "stdout",
     "output_type": "stream",
     "text": [
      "n debe ser mayor a 2\n"
     ]
    }
   ],
   "source": [
    "fermat(1,1,2^0.5,2)"
   ]
  },
  {
   "cell_type": "markdown",
   "metadata": {},
   "source": [
    "### Inciso b)"
   ]
  },
  {
   "cell_type": "code",
   "execution_count": 58,
   "metadata": {
    "collapsed": false
   },
   "outputs": [
    {
     "data": {
      "text/plain": [
       "fermat_input (generic function with 1 method)"
      ]
     },
     "execution_count": 58,
     "metadata": {},
     "output_type": "execute_result"
    }
   ],
   "source": [
    "function fermat_input()\n",
    "    println(\"Introduce los valores de a, b y c\")\n",
    "    a=parse(Int32,readline())\n",
    "    b=parse(Int32,readline())\n",
    "    c=parse(Int32,readline())\n",
    "    println(\"Introduce el exponente n\")\n",
    "    n=parse(Int32,readline())\n",
    "    if n >2 \n",
    "        if a^n+b^n==c^n\n",
    "            println(\"Santos cielos, Batman! Fermat estaba mal\")\n",
    "        else\n",
    "            println(\"No, esta combinación no funciona\")\n",
    "    \n",
    "        end\n",
    "    else\n",
    "        println(\"n debe ser mayor a 2\")\n",
    "    end\n",
    "end"
   ]
  },
  {
   "cell_type": "code",
   "execution_count": 59,
   "metadata": {
    "collapsed": false
   },
   "outputs": [
    {
     "name": "stdout",
     "output_type": "stream",
     "text": [
      "Introduce los valores de a, b y c\n",
      "STDIN> 3\n",
      "STDIN> 4\n",
      "STDIN> 5\n",
      "Introduce el exponente n\n",
      "STDIN> 7\n",
      "No, esta combinación no funciona\n"
     ]
    }
   ],
   "source": [
    "fermat_input()"
   ]
  },
  {
   "cell_type": "markdown",
   "metadata": {},
   "source": [
    "## Problema 4\n",
    "\n",
    "### Inciso a)\n",
    "La expansión de taylor para el $\\sin(x)$ cerca de $x=0$ tiene la forma:\n",
    "$$\\sin(x)=x-\\frac{x^3}{3!}+\\frac{x^5}{5!}-...$$\n",
    "\n",
    "Para la función exponencial $e^x$ cerca de $x=0$ tiene la forma:\n",
    "$$e^x=1+x+\\frac{x^2}{2!}+\\frac{x^3}{3!}+...$$\n"
   ]
  },
  {
   "cell_type": "code",
   "execution_count": 4,
   "metadata": {
    "collapsed": false
   },
   "outputs": [
    {
     "data": {
      "text/plain": [
       "6.925270707505128271087997028771689329197797825727513227513227513227513227531664e-03"
      ]
     },
     "execution_count": 4,
     "metadata": {},
     "output_type": "execute_result"
    }
   ],
   "source": [
    "function mi_sin(x,n)\n",
    "    if n==0\n",
    "        0\n",
    "    else\n",
    "        ((-1)^(n+1))*(x^(2*n-1))/factorial(big(2*n-1)) + mi_sin(x,n-1)\n",
    "    end\n",
    "end\n",
    "\n",
    "mi_sin(pi,5)"
   ]
  },
  {
   "cell_type": "code",
   "execution_count": 8,
   "metadata": {
    "collapsed": false
   },
   "outputs": [
    {
     "data": {
      "text/plain": [
       "3.248728446814684405227105967148727273756455977908908605532538537760043809717898e-16"
      ]
     },
     "execution_count": 8,
     "metadata": {},
     "output_type": "execute_result"
    }
   ],
   "source": [
    "mi_sin(pi,45)"
   ]
  },
  {
   "cell_type": "code",
   "execution_count": 98,
   "metadata": {
    "collapsed": false
   },
   "outputs": [
    {
     "data": {
      "text/plain": [
       "mi_exp (generic function with 1 method)"
      ]
     },
     "execution_count": 98,
     "metadata": {},
     "output_type": "execute_result"
    }
   ],
   "source": [
    "function mi_exp(x,n)\n",
    "    if n == 0\n",
    "        1\n",
    "    else\n",
    "        x^n/factorial(n) + mi_exp(x, n-1)\n",
    "    end\n",
    "end"
   ]
  },
  {
   "cell_type": "code",
   "execution_count": 99,
   "metadata": {
    "collapsed": false
   },
   "outputs": [
    {
     "data": {
      "text/plain": [
       "2.7182818011463845"
      ]
     },
     "execution_count": 99,
     "metadata": {},
     "output_type": "execute_result"
    }
   ],
   "source": [
    "mi_exp(1,10)"
   ]
  },
  {
   "cell_type": "markdown",
   "metadata": {},
   "source": [
    "### inciso b)\n",
    "\n",
    "Usando un for..."
   ]
  },
  {
   "cell_type": "code",
   "execution_count": 104,
   "metadata": {
    "collapsed": false
   },
   "outputs": [
    {
     "data": {
      "text/plain": [
       "mi_expf (generic function with 1 method)"
      ]
     },
     "execution_count": 104,
     "metadata": {},
     "output_type": "execute_result"
    }
   ],
   "source": [
    "function mi_expf(x,n)\n",
    "    suma=0\n",
    "    for i in 0:n\n",
    "        suma += x^i/factorial(i)\n",
    "    end\n",
    "    return suma\n",
    "end"
   ]
  },
  {
   "cell_type": "code",
   "execution_count": 105,
   "metadata": {
    "collapsed": false
   },
   "outputs": [
    {
     "data": {
      "text/plain": [
       "2.7182818011463845"
      ]
     },
     "execution_count": 105,
     "metadata": {},
     "output_type": "execute_result"
    }
   ],
   "source": [
    "mi_expf(1,10)"
   ]
  },
  {
   "cell_type": "code",
   "execution_count": 7,
   "metadata": {
    "collapsed": false
   },
   "outputs": [
    {
     "data": {
      "text/plain": [
       "mi_senf (generic function with 1 method)"
      ]
     },
     "execution_count": 7,
     "metadata": {},
     "output_type": "execute_result"
    }
   ],
   "source": [
    "function mi_senf(x,n)\n",
    "    suma=0\n",
    "    for i in 0:n\n",
    "        suma += ((-1)^i)*(x^(2*i+1))/(factorial(big(2*i+1)))\n",
    "    end\n",
    "    return suma\n",
    "end\n"
   ]
  },
  {
   "cell_type": "code",
   "execution_count": 8,
   "metadata": {
    "collapsed": false
   },
   "outputs": [
    {
     "data": {
      "text/plain": [
       "1.00000000000000001329526759040313148484393382492049890255435276417055526793425"
      ]
     },
     "execution_count": 8,
     "metadata": {},
     "output_type": "execute_result"
    }
   ],
   "source": [
    "mi_senf(pi/2,10)"
   ]
  },
  {
   "cell_type": "markdown",
   "metadata": {},
   "source": [
    "## Problema 5\n",
    "\n"
   ]
  },
  {
   "cell_type": "code",
   "execution_count": 2,
   "metadata": {
    "collapsed": false
   },
   "outputs": [
    {
     "data": {
      "text/plain": [
       "aprox_inv_pi (generic function with 1 method)"
      ]
     },
     "execution_count": 2,
     "metadata": {},
     "output_type": "execute_result"
    }
   ],
   "source": [
    "function aprox_inv_pi()\n",
    "    i=0\n",
    "    suma=0\n",
    "    terminoI=1\n",
    "    while abs(terminoI) >= 1e-14 && i<10000\n",
    "        terminoI = ((2^(3/2))/(9801))*(((factorial(big(4*i)))*(1103+26390*i))/((factorial(big(i))^4)*(396^(4*i))))\n",
    "        suma += terminoI\n",
    "        i += 1\n",
    "        println(terminoI)\n",
    "        println(\"π=\",1/suma)\n",
    "    end\n",
    "    return suma\n",
    "end"
   ]
  },
  {
   "cell_type": "code",
   "execution_count": null,
   "metadata": {
    "collapsed": true
   },
   "outputs": [],
   "source": []
  }
 ],
 "metadata": {
  "kernelspec": {
   "display_name": "Julia 0.4.7",
   "language": "julia",
   "name": "julia-0.4"
  },
  "language_info": {
   "file_extension": ".jl",
   "mimetype": "application/julia",
   "name": "julia",
   "version": "0.4.7"
  }
 },
 "nbformat": 4,
 "nbformat_minor": 2
}
